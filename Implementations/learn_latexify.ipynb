{
  "nbformat": 4,
  "nbformat_minor": 0,
  "metadata": {
    "colab": {
      "provenance": [],
      "authorship_tag": "ABX9TyOD+c8LrnsIsW93JD6gbCgt",
      "include_colab_link": true
    },
    "kernelspec": {
      "name": "python3",
      "display_name": "Python 3"
    },
    "language_info": {
      "name": "python"
    }
  },
  "cells": [
    {
      "cell_type": "markdown",
      "metadata": {
        "id": "view-in-github",
        "colab_type": "text"
      },
      "source": [
        "<a href=\"https://colab.research.google.com/github/mohammedhemed77/DL-Course-UDL-Book-Based-/blob/main/Implementations/try_latexify.ipynb\" target=\"_parent\"><img src=\"https://colab.research.google.com/assets/colab-badge.svg\" alt=\"Open In Colab\"/></a>"
      ]
    },
    {
      "cell_type": "code",
      "execution_count": 1,
      "metadata": {
        "colab": {
          "base_uri": "https://localhost:8080/"
        },
        "id": "Dqh5Ay-Gzqi2",
        "outputId": "68e765dc-acef-4e6b-8fcb-6c1f5f2250d4"
      },
      "outputs": [
        {
          "output_type": "stream",
          "name": "stdout",
          "text": [
            "Collecting latexify-py\n",
            "  Downloading latexify_py-0.4.4-py3-none-any.whl.metadata (4.2 kB)\n",
            "Collecting dill>=0.3.2 (from latexify-py)\n",
            "  Downloading dill-0.3.9-py3-none-any.whl.metadata (10 kB)\n",
            "Downloading latexify_py-0.4.4-py3-none-any.whl (38 kB)\n",
            "Downloading dill-0.3.9-py3-none-any.whl (119 kB)\n",
            "\u001b[2K   \u001b[90m━━━━━━━━━━━━━━━━━━━━━━━━━━━━━━━━━━━━━━━━\u001b[0m \u001b[32m119.4/119.4 kB\u001b[0m \u001b[31m4.2 MB/s\u001b[0m eta \u001b[36m0:00:00\u001b[0m\n",
            "\u001b[?25hInstalling collected packages: dill, latexify-py\n",
            "Successfully installed dill-0.3.9 latexify-py-0.4.4\n"
          ]
        }
      ],
      "source": [
        "!pip3 install latexify-py"
      ]
    },
    {
      "cell_type": "code",
      "source": [
        "import math\n",
        "import latexify"
      ],
      "metadata": {
        "id": "5ab5amFwz0S3"
      },
      "execution_count": 2,
      "outputs": []
    },
    {
      "cell_type": "code",
      "source": [
        "@latexify.function\n",
        "def sigmoid(x):\n",
        "  return 1 / (1 + math.exp(-x))"
      ],
      "metadata": {
        "id": "DHwPLaaGz0PR"
      },
      "execution_count": 3,
      "outputs": []
    },
    {
      "cell_type": "code",
      "source": [
        "@latexify.expression\n",
        "def sigmoid(x):\n",
        "  return 1 / (1 + math.exp(-x))\n",
        "sigmoid"
      ],
      "metadata": {
        "colab": {
          "base_uri": "https://localhost:8080/",
          "height": 55
        },
        "id": "I7r8DdIzz0I3",
        "outputId": "24ebe3dc-ad67-4d75-f728-794fe86d053b"
      },
      "execution_count": 4,
      "outputs": [
        {
          "output_type": "execute_result",
          "data": {
            "text/plain": [
              "<latexify.ipython_wrappers.LatexifiedFunction at 0x7d9aa35b94d0>"
            ],
            "text/latex": "$$ \\displaystyle \\frac{1}{1 + \\exp \\mathopen{}\\left( -x \\mathclose{}\\right)} $$"
          },
          "metadata": {},
          "execution_count": 4
        }
      ]
    },
    {
      "cell_type": "code",
      "source": [
        "@latexify.function(identifiers={'sigmoid':'sigma'}, use_math_symbols=True)\n",
        "def sigmoid(x):\n",
        "  return 1 / (1 + math.exp(-x))\n",
        "sigmoid\n"
      ],
      "metadata": {
        "colab": {
          "base_uri": "https://localhost:8080/",
          "height": 55
        },
        "id": "fjL7rTryzz0i",
        "outputId": "ae7dff7a-fde8-4dc6-bd9c-9e6289c9dc1c"
      },
      "execution_count": 5,
      "outputs": [
        {
          "output_type": "execute_result",
          "data": {
            "text/plain": [
              "<latexify.ipython_wrappers.LatexifiedFunction at 0x7d9ab8cf1f90>"
            ],
            "text/latex": "$$ \\displaystyle \\sigma(x) = \\frac{1}{1 + \\exp \\mathopen{}\\left( -x \\mathclose{}\\right)} $$"
          },
          "metadata": {},
          "execution_count": 5
        }
      ]
    },
    {
      "cell_type": "code",
      "source": [
        "@latexify.expression(use_math_symbols=True)\n",
        "\n",
        "def trigfunction(theta):\n",
        "  return math.sin(theta) + math.cos(2*theta)\n",
        "\n",
        "trigfunction"
      ],
      "metadata": {
        "colab": {
          "base_uri": "https://localhost:8080/",
          "height": 39
        },
        "id": "vx7-rUHVz7eB",
        "outputId": "d16bd5e9-7e2f-4fa7-9ee8-07d040adbf53"
      },
      "execution_count": 6,
      "outputs": [
        {
          "output_type": "execute_result",
          "data": {
            "text/plain": [
              "<latexify.ipython_wrappers.LatexifiedFunction at 0x7d9aa35ad8d0>"
            ],
            "text/latex": "$$ \\displaystyle \\sin \\theta + \\cos \\mathopen{}\\left( 2 \\theta \\mathclose{}\\right) $$"
          },
          "metadata": {},
          "execution_count": 6
        }
      ]
    },
    {
      "cell_type": "code",
      "source": [
        "import numpy as np\n",
        "\n",
        "@latexify.algorithmic(use_math_symbols=True)\n",
        "def relu(x):\n",
        "    return np.maximum(0, x)\n",
        "\n",
        "relu"
      ],
      "metadata": {
        "colab": {
          "base_uri": "https://localhost:8080/",
          "height": 78
        },
        "id": "rh-cHTyWz7an",
        "outputId": "caca7d55-8308-4ce6-db2f-ac330bad1381"
      },
      "execution_count": 7,
      "outputs": [
        {
          "output_type": "execute_result",
          "data": {
            "text/plain": [
              "<latexify.ipython_wrappers.LatexifiedAlgorithm at 0x7d9aa35b8850>"
            ],
            "text/latex": "$ \\begin{array}{l} \\mathbf{function} \\ \\mathrm{relu}(x) \\\\ \\hspace{1em} \\mathbf{return} \\ \\mathrm{np}.\\mathrm{maximum} \\mathopen{}\\left( 0, x \\mathclose{}\\right) \\\\ \\mathbf{end \\ function} \\end{array} $"
          },
          "metadata": {},
          "execution_count": 7
        }
      ]
    },
    {
      "cell_type": "code",
      "source": [
        "@latexify.function(identifiers = {'fib_recursive' : 'fib'} )\n",
        "def fib_recursive(n):\n",
        "    if n <= 0:\n",
        "        return 0\n",
        "    elif n == 1:\n",
        "        return 1\n",
        "    else:\n",
        "        return fib_recursive(n - 1) + fib_recursive(n - 2)\n",
        "fib_recursive"
      ],
      "metadata": {
        "colab": {
          "base_uri": "https://localhost:8080/",
          "height": 78
        },
        "id": "rxwoyh5gz7Yt",
        "outputId": "4992cf94-f373-42f0-d3be-f6c95ee75728"
      },
      "execution_count": 8,
      "outputs": [
        {
          "output_type": "execute_result",
          "data": {
            "text/plain": [
              "<latexify.ipython_wrappers.LatexifiedFunction at 0x7d9aa35ac850>"
            ],
            "text/latex": "$$ \\displaystyle \\mathrm{fib}(n) = \\left\\{ \\begin{array}{ll} 0, & \\mathrm{if} \\ n \\le 0 \\\\ 1, & \\mathrm{if} \\ n = 1 \\\\ \\mathrm{fib} \\mathopen{}\\left( n - 1 \\mathclose{}\\right) + \\mathrm{fib} \\mathopen{}\\left( n - 2 \\mathclose{}\\right), & \\mathrm{otherwise} \\end{array} \\right. $$"
          },
          "metadata": {},
          "execution_count": 8
        }
      ]
    },
    {
      "cell_type": "code",
      "source": [
        "@latexify.algorithmic(identifiers = {'fib_recursive' : 'fib'} )\n",
        "def fib_recursive(n):\n",
        "    if n <= 0:\n",
        "        return 0\n",
        "    elif n == 1:\n",
        "        return 1\n",
        "    else:\n",
        "        return fib_recursive(n - 1) + fib_recursive(n - 2)\n",
        "fib_recursive"
      ],
      "metadata": {
        "colab": {
          "base_uri": "https://localhost:8080/",
          "height": 241
        },
        "id": "MDcZEwAhz7Wv",
        "outputId": "cbb66c31-6412-482c-a28c-8dde6f45515f"
      },
      "execution_count": 9,
      "outputs": [
        {
          "output_type": "execute_result",
          "data": {
            "text/plain": [
              "<latexify.ipython_wrappers.LatexifiedAlgorithm at 0x7d9aa35af790>"
            ],
            "text/latex": "$ \\begin{array}{l} \\mathbf{function} \\ \\mathrm{fib}(n) \\\\ \\hspace{1em} \\mathbf{if} \\ n \\le 0 \\\\ \\hspace{2em} \\mathbf{return} \\ 0 \\\\ \\hspace{1em} \\mathbf{else} \\\\ \\hspace{2em} \\mathbf{if} \\ n = 1 \\\\ \\hspace{3em} \\mathbf{return} \\ 1 \\\\ \\hspace{2em} \\mathbf{else} \\\\ \\hspace{3em} \\mathbf{return} \\ \\mathrm{fib} \\mathopen{}\\left( n - 1 \\mathclose{}\\right) + \\mathrm{fib} \\mathopen{}\\left( n - 2 \\mathclose{}\\right) \\\\ \\hspace{2em} \\mathbf{end \\ if} \\\\ \\hspace{1em} \\mathbf{end \\ if} \\\\ \\mathbf{end \\ function} \\end{array} $"
          },
          "metadata": {},
          "execution_count": 9
        }
      ]
    }
  ]
}
