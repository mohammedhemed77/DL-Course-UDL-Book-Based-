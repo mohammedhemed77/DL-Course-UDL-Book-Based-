{
  "cells": [
    {
      "cell_type": "markdown",
      "metadata": {
        "id": "view-in-github",
        "colab_type": "text"
      },
      "source": [
        "<a href=\"https://colab.research.google.com/github/mohammedhemed77/DL-Course-UDL-Book-Based-/blob/main/Implementations/Notebooks/Deep_NN.ipynb\" target=\"_parent\"><img src=\"https://colab.research.google.com/assets/colab-badge.svg\" alt=\"Open In Colab\"/></a>"
      ]
    },
    {
      "cell_type": "code",
      "execution_count": null,
      "metadata": {
        "id": "e3MOXIcVvHMU"
      },
      "outputs": [],
      "source": [
        "import numpy as np\n",
        "import matplotlib.pyplot as plt\n",
        "import time"
      ]
    },
    {
      "cell_type": "markdown",
      "metadata": {
        "id": "dRPG0GrZ3O4q"
      },
      "source": [
        "## Vectorization"
      ]
    },
    {
      "cell_type": "code",
      "execution_count": null,
      "metadata": {
        "id": "XIGBaSvIuqm_"
      },
      "outputs": [],
      "source": [
        "# create u vector of shape 1 * 1000,000\n",
        "u = np.random.rand(1000000)\n",
        "# create v vector of shape 1 * 1000,000\n",
        "v = np.random.rand(1000000)\n",
        "c = 0"
      ]
    },
    {
      "cell_type": "markdown",
      "metadata": {
        "id": "zJewYkfy3jVY"
      },
      "source": [
        "#### Calculate time of vectorized version of dot product"
      ]
    },
    {
      "cell_type": "code",
      "execution_count": null,
      "metadata": {
        "colab": {
          "base_uri": "https://localhost:8080/"
        },
        "id": "DGZUUxj205RE",
        "outputId": "df9b1af2-0d28-40ab-80a5-fe4d26821924"
      },
      "outputs": [
        {
          "output_type": "stream",
          "name": "stdout",
          "text": [
            "249746.70993047286\n",
            "Numpy dot product time =  1.813650131225586 msec\n"
          ]
        }
      ],
      "source": [
        "start_time = time.time()\n",
        "c = np.dot(u,v)\n",
        "end_time = time.time()\n",
        "print(c)\n",
        "numpy_time = end_time - start_time\n",
        "print(\"Numpy dot product time = \" ,(end_time - start_time) * 1000 , 'msec')"
      ]
    },
    {
      "cell_type": "markdown",
      "metadata": {
        "id": "s2SBtU223bCP"
      },
      "source": [
        "#### Calculate time of dot product using for loop for loop"
      ]
    },
    {
      "cell_type": "code",
      "execution_count": null,
      "metadata": {
        "colab": {
          "base_uri": "https://localhost:8080/"
        },
        "id": "iwUhFP_G1KVD",
        "outputId": "5e64d66f-ccd0-4791-9822-c21b1551ad6b"
      },
      "outputs": [
        {
          "output_type": "stream",
          "name": "stdout",
          "text": [
            "249746.7099304818\n",
            "For-loop dot product time =  465.73901176452637 ms\n"
          ]
        }
      ],
      "source": [
        "c = 0\n",
        "start_time = time.time()\n",
        "for i in range(1000000):\n",
        "    c += u[i] * v[i]\n",
        "end_time = time.time()\n",
        "print(c)\n",
        "for_loop_time = end_time - start_time\n",
        "print(\"For-loop dot product time = \" ,(end_time - start_time)*1000,'ms')"
      ]
    },
    {
      "cell_type": "markdown",
      "metadata": {
        "id": "t7QoG_a03u3W"
      },
      "source": [
        "#### compare results"
      ]
    },
    {
      "cell_type": "code",
      "execution_count": null,
      "metadata": {
        "colab": {
          "base_uri": "https://localhost:8080/"
        },
        "id": "few6FRox12Lr",
        "outputId": "66c5e310-b377-4a83-b229-943e1d20dbc9"
      },
      "outputs": [
        {
          "output_type": "stream",
          "name": "stdout",
          "text": [
            "256.79650322071774\n"
          ]
        }
      ],
      "source": [
        "print (for_loop_time/numpy_time)"
      ]
    },
    {
      "cell_type": "markdown",
      "metadata": {
        "id": "uVwtl4zVxjtg"
      },
      "source": [
        "## Broadcasting :"
      ]
    },
    {
      "cell_type": "code",
      "execution_count": null,
      "metadata": {
        "colab": {
          "base_uri": "https://localhost:8080/"
        },
        "id": "jMko1VrhuSLT",
        "outputId": "627dba3d-bc2e-4409-fae7-37d7a1667d31"
      },
      "outputs": [
        {
          "output_type": "stream",
          "name": "stdout",
          "text": [
            "A shape: (400, 1)\n",
            "B shape: (1, 1)\n",
            "C shape: (400, 1)\n"
          ]
        }
      ],
      "source": [
        "# Array A: shape (400, 1)\n",
        "A = np.random.randn(400, 1)\n",
        "# Array B: shape (1, 1)\n",
        "B = np.random.randn(1, 1)\n",
        "\n",
        "# Broadcasting: B is \"stretched\" to shape (400, 1) and added to A\n",
        "C = A + B\n",
        "print(\"A shape:\", A.shape)  # (400, 1)\n",
        "print(\"B shape:\", B.shape)  # (1, 1)\n",
        "print(\"C shape:\", C.shape)  # (400, 1)"
      ]
    },
    {
      "cell_type": "markdown",
      "metadata": {
        "id": "RGUuH3UZ_6-S"
      },
      "source": [
        "# Design this simple deep NN\n",
        "\n",
        "\n",
        " -> input  (1)\n",
        "\n",
        " -> h-layer(1) : 3 neurons\n",
        "\n",
        " -> h-layer(2) : 4 neurons\n",
        "\n",
        " -> output (1)\n",
        "\n",
        " #### You can draw your own network using this site : https://alexlenail.me/NN-SVG/"
      ]
    },
    {
      "cell_type": "markdown",
      "metadata": {
        "id": "mtLRoM6O_0yE"
      },
      "source": [
        "![nn.png](data:image/png;base64,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)"
      ]
    },
    {
      "cell_type": "code",
      "execution_count": null,
      "metadata": {
        "id": "zhrcJx1Y8szd"
      },
      "outputs": [],
      "source": [
        "# if you want the same results each time you run the cell uncomment this line\n",
        "# np.random.seed(42)      # Set random seed for reproducibility\n",
        "def relu(x):\n",
        "    return np.maximum(0, x)\n",
        "# Network architecture:\n",
        "W1 = np.random.randn(3,1)\n",
        "b1 = np.random.randn(3,1)\n",
        "\n",
        "W2 = np.random.randn(4,3)\n",
        "b2 = np.random.randn(4,1)\n",
        "\n",
        "W3 = np.random.randn(1,4)\n",
        "b3 = np.random.randn(1,1)\n",
        "\n",
        "# ---------------------------\n",
        "# total numer of parameters = 27\n",
        "# W1 = 3 , b1 = 3 | w2 = 12 , b2 = 4 | w3 = 4 , b3 = 1\n",
        "# biases = 8 , Wieghts = 19\n",
        "# -------------------------------------------------------\n",
        "\n",
        "def network(x):                          # input : x                                             (3,1)\n",
        "    h1 = relu(np.dot(W1 ,x) + b1)        # Relu (w1 * x.T + b1)                                  (4,3) * (3,1) + (4,1)  = (4,1)\n",
        "    h2 = relu(np.dot(W2 ,h1) + b2)       # Relu (W2 * x + b2) = Relu ( W2 (W1 * x + b1) + b2 )   (4,4) * (4,1) + (4,1)  = (4,1)\n",
        "    y = (np.dot(W3,h2) + b3)             # W3 * x + b3 = W3 (W2 * x + b2) + b3                   (1,4) * (4,1) + (1,1)  = (1,1)\n",
        "    return y                             # output : y"
      ]
    },
    {
      "cell_type": "code",
      "execution_count": null,
      "metadata": {
        "id": "tWn6HpGryD1g"
      },
      "outputs": [],
      "source": [
        "# Generate dataset (1D input)\n",
        "N = 100\n",
        "x_train = np.linspace(-5, 5, N).reshape(1, N)  # Shape (1, N)\n",
        "y_train = np.sin(x_train) + 0.1 * np.random.randn(1, N)  # True values with noise\n",
        "\n",
        "# Get neural network predictions\n",
        "y_pred = np.array([network(x.reshape(1,1)) for x in x_train.T]).flatten()\n"
      ]
    },
    {
      "cell_type": "code",
      "execution_count": null,
      "metadata": {
        "id": "vw0-ZFVkyJWW",
        "colab": {
          "base_uri": "https://localhost:8080/",
          "height": 564
        },
        "outputId": "22784531-8978-4049-c4b1-b606c1e014a7"
      },
      "outputs": [
        {
          "output_type": "display_data",
          "data": {
            "text/plain": [
              "<Figure size 800x600 with 1 Axes>"
            ],
            "image/png": "[encoded data removed]"
          },
          "metadata": {}
        }
      ],
      "source": [
        "# Plot results\n",
        "plt.figure(figsize=(8,6))\n",
        "plt.scatter(x_train.flatten(), y_train.flatten(), color='red', label=\"True Data\")\n",
        "plt.plot(x_train.flatten(), y_pred, label=\"NN Output\", color='blue')\n",
        "plt.xlabel(\"Input x\")\n",
        "plt.ylabel(\"Output y\")\n",
        "plt.title(\"Neural Network Fit to 1D Data\")\n",
        "plt.legend()\n",
        "plt.show()"
      ]
    },
    {
      "cell_type": "code",
      "execution_count": null,
      "metadata": {
        "colab": {
          "base_uri": "https://localhost:8080/"
        },
        "id": "HBMABsX3jEND",
        "outputId": "ac5cc8e3-b1a9-46d5-cee6-8ce3026203d0"
      },
      "outputs": [
        {
          "output_type": "stream",
          "name": "stdout",
          "text": [
            "W1 =  [[ 1.72470155]\n",
            " [ 1.62158662]\n",
            " [-0.24387305]] (3, 1) \n",
            "\n",
            "b1 =  [[ 0.74782259]\n",
            " [ 1.69816785]\n",
            " [-0.45617781]] (3, 1) \n",
            "\n",
            "W2 =  [[ 1.24070488 -1.47435667 -0.87873813]\n",
            " [ 1.23111611  0.91155847 -0.32163302]\n",
            " [-0.74780344  0.4595257   0.12234619]\n",
            " [-0.33393288  0.80046501  0.15147094]] (4, 3) \n",
            "\n",
            "b2 =  [[ 0.4361327 ]\n",
            " [ 1.46153841]\n",
            " [-0.3396384 ]\n",
            " [-0.03193244]] (4, 1) \n",
            "\n",
            "W3 =  [[ 3.17816811 -1.15426628 -1.79333763  1.16750857]] (1, 4) \n",
            "\n",
            "b3 =  [[-0.5446837]] (1, 1) \n",
            "\n"
          ]
        }
      ],
      "source": [
        "# check dimensions\n",
        "print (\"W1 = \", W1,W1.shape,'\\n')\n",
        "print (\"b1 = \", b1,b1.shape,'\\n')\n",
        "print (\"W2 = \", W2,W2.shape,'\\n')\n",
        "print (\"b2 = \", b2,b2.shape,'\\n')\n",
        "print (\"W3 = \", W3,W3.shape,'\\n')\n",
        "print (\"b3 = \", b3,b3.shape,'\\n')"
      ]
    },
    {
      "cell_type": "markdown",
      "source": [
        "## MNIST dataset\n",
        "#### Hello World ! of Deep Nueral Nets  \n",
        "Total Images: 70,000\n",
        "\n",
        "Training Set: 60,000 images\n",
        "\n",
        "Test Set: 10,000 images\n",
        "\n",
        "Image Dimensions: 28 x 28 pixels\n",
        "\n",
        "Total Pixels per Image: 784\n",
        "\n",
        "Color Scale: Grayscale\n",
        "\n",
        "Pixel Value Range: 0 to 255 (usually normalized to 0–1)\n",
        "\n",
        "Number of Classes: 10 (digits 0 through 9)"
      ],
      "metadata": {
        "id": "vk_6olEB7DZw"
      }
    },
    {
      "cell_type": "markdown",
      "source": [],
      "metadata": {
        "id": "0WAXlFvQ-Mel"
      }
    },
    {
      "cell_type": "markdown",
      "source": [
        "#### Import needed libraries"
      ],
      "metadata": {
        "id": "ougqH9pU-PIS"
      }
    },
    {
      "cell_type": "code",
      "source": [
        "import numpy as np # linear algebra\n",
        "import pandas as pd # data processing, CSV file I/O (e.g. pd.read_csv)\n",
        "import random\n",
        "import matplotlib.pyplot as plt # plotting library\n",
        "%matplotlib inline\n",
        "from keras.models import Sequential\n",
        "from keras.layers import Dense , Activation, Dropout\n",
        "from keras.optimizers import Adam ,RMSprop\n",
        "from keras import  backend as K"
      ],
      "metadata": {
        "id": "WobnHt4U-Lj0"
      },
      "execution_count": null,
      "outputs": []
    },
    {
      "cell_type": "markdown",
      "source": [
        "##### import dataset"
      ],
      "metadata": {
        "id": "xgM24JpS89jq"
      }
    },
    {
      "cell_type": "code",
      "source": [
        "from keras.datasets import mnist\n",
        "\n",
        "# load dataset\n",
        "(x_train, y_train),(x_test, y_test) = mnist.load_data()"
      ],
      "metadata": {
        "id": "6WiuMz3u5eLQ"
      },
      "execution_count": null,
      "outputs": []
    },
    {
      "cell_type": "markdown",
      "source": [
        "#### Some statistics about the dataset"
      ],
      "metadata": {
        "id": "Pyad71nX9KPX"
      }
    },
    {
      "cell_type": "code",
      "source": [
        "# count the number of unique train labels\n",
        "unique, counts = np.unique(y_train, return_counts=True)\n",
        "print(\"Train labels: \", dict(zip(unique, counts)))\n",
        "\n",
        "# count the number of unique test labels\n",
        "unique, counts = np.unique(y_test, return_counts=True)\n",
        "print(\"\\nTest labels: \", dict(zip(unique, counts)))\n"
      ],
      "metadata": {
        "colab": {
          "base_uri": "https://localhost:8080/"
        },
        "id": "nhgnPW9M9IvT",
        "outputId": "c17613e8-227c-44ad-a1f2-23a2b2b5ed40"
      },
      "execution_count": null,
      "outputs": [
        {
          "output_type": "stream",
          "name": "stdout",
          "text": [
            "Train labels:  {0: 5923, 1: 6742, 2: 5958, 3: 6131, 4: 5842, 5: 5421, 6: 5918, 7: 6265, 8: 5851, 9: 5949}\n",
            "\n",
            "Test labels:  {0: 980, 1: 1135, 2: 1032, 3: 1010, 4: 982, 5: 892, 6: 958, 7: 1028, 8: 974, 9: 1009}\n"
          ]
        }
      ]
    },
    {
      "cell_type": "markdown",
      "source": [
        "#### Data visualization : sample the 25 random MNIST digits and visualize them"
      ],
      "metadata": {
        "id": "iXBKGCIV9ex3"
      }
    },
    {
      "cell_type": "code",
      "source": [
        "# sample 25 mnist digits from train dataset\n",
        "\n",
        "indexes = np.random.randint(0, x_train.shape[0], size = 25)\n",
        "images = x_train[indexes]\n",
        "labels = y_train[indexes]\n",
        "\n",
        "\n",
        "# plot the 25 mnist digits\n",
        "plt.figure(figsize=(5,5))\n",
        "for i in range(len(indexes)):\n",
        "    plt.subplot(5, 5, i + 1)\n",
        "    image = images[i]\n",
        "    plt.imshow(image, cmap='gray')\n",
        "    plt.axis('off')\n",
        "\n",
        "plt.show()\n",
        "plt.savefig(\"mnist-samples.png\")\n",
        "plt.close('all')"
      ],
      "metadata": {
        "colab": {
          "base_uri": "https://localhost:8080/",
          "height": 422
        },
        "id": "uQbIKLfZ9hbg",
        "outputId": "d449b894-bbe6-4c4f-c634-6edbbdeecc8b"
      },
      "execution_count": null,
      "outputs": [
        {
          "output_type": "display_data",
          "data": {
            "text/plain": [
              "<Figure size 500x500 with 25 Axes>"
            ],
            "image/png": "[encoded data removed]"
          },
          "metadata": {}
        }
      ]
    },
    {
      "cell_type": "markdown",
      "source": [
        "### Designing model architecture using Keras\n",
        "\n",
        "The MLP model,  can be used for MNIST digits classification.\n",
        "\n",
        "When the units or perceptrons are exposed, the MLP model is a fully connected network.\n",
        "\n",
        "The following code shows how to design the MLP model architecture using Keras.\n",
        "\n",
        "The first step in designing the model architecture is to import the Keras layers. This can be done as follows:"
      ],
      "metadata": {
        "id": "gqWL544r2Sr4"
      }
    },
    {
      "cell_type": "code",
      "source": [
        "from keras.models import Sequential\n",
        "from keras.layers import Dense, Activation, Dropout\n",
        "from keras.utils import to_categorical, plot_model"
      ],
      "metadata": {
        "id": "yBrwpeEm2dPw"
      },
      "execution_count": null,
      "outputs": []
    },
    {
      "cell_type": "markdown",
      "source": [
        "### Compute the number of labels\n",
        "Now, the data must be in the correct shape and format.\n",
        "\n",
        "After loading the MNIST dataset, the number of labels is computed as:"
      ],
      "metadata": {
        "id": "ymf5aAW82jy4"
      }
    },
    {
      "cell_type": "code",
      "source": [
        "# compute the number of labels\n",
        "num_labels = len(np.unique(y_train))"
      ],
      "metadata": {
        "id": "bfENab8x2ra4"
      },
      "execution_count": null,
      "outputs": []
    },
    {
      "cell_type": "markdown",
      "source": [
        "### One-Hot Encoding\n",
        "At this point, the labels are in digits format, 0 to 9.\n",
        "\n",
        "This sparse scalar representation of labels is not suitable for the neural network prediction layer that outputs probabilities per class.\n",
        "\n",
        "A more suitable format is called a one-hot vector, a 10-dim vector with all elements 0, except for the index of the digit class.\n",
        "\n",
        "For example, if the label is 2, the equivalent one-hot vector is [0,0,1,0,0,0,0,0,0,0]. The first label has index 0.\n",
        "\n",
        "The following lines convert each label into a one-hot vector:"
      ],
      "metadata": {
        "id": "V1zR7kis2wk1"
      }
    },
    {
      "cell_type": "code",
      "source": [
        "# convert to one-hot vector\n",
        "y_train = to_categorical(y_train)\n",
        "y_test = to_categorical(y_test)"
      ],
      "metadata": {
        "id": "_Ugph-B-20g9"
      },
      "execution_count": null,
      "outputs": []
    },
    {
      "cell_type": "markdown",
      "source": [
        "### Data Preprocessing\n",
        "In deep learning, data is stored in tensors. The term tensor applies to a scalar (0D tensor), vector (1D tensor), matrix (2D tensor), and a multi-dimensional tensor.\n",
        "\n",
        "The rest code computes the image dimensions, input_size of the first Dense layer and scales each pixel value from 0 to 255 to range from 0.0 to 1.0. Although raw pixel values can be used directly, it is better to normalize the input data as to avoid large gradient values that could make training difficult.\n",
        "\n",
        "The output of the network is also normalized. After training, there is an option to put everything back to the integer pixel values by multiplying the output tensor by 255.\n",
        "\n",
        "The proposed model is based on MLP layers. Therefore, the input is expected to be a 1D tensor. So, x_train and x_test are reshaped to [60000, 28 28] and [10000, 28 28], respectively.\n",
        "\n"
      ],
      "metadata": {
        "id": "d4houu6l3Azi"
      }
    },
    {
      "cell_type": "code",
      "source": [
        "# image dimensions (assumed square)\n",
        "image_size = x_train.shape[1]\n",
        "input_size = image_size * image_size\n",
        "input_size"
      ],
      "metadata": {
        "colab": {
          "base_uri": "https://localhost:8080/"
        },
        "id": "EgIJ2l0B3C-8",
        "outputId": "e6b571dc-fa82-4464-f058-4afb9247d1ce"
      },
      "execution_count": null,
      "outputs": [
        {
          "output_type": "execute_result",
          "data": {
            "text/plain": [
              "784"
            ]
          },
          "metadata": {},
          "execution_count": 11
        }
      ]
    },
    {
      "cell_type": "code",
      "source": [
        "# resize and normalize\n",
        "x_train = np.reshape(x_train, [-1, input_size])\n",
        "x_train = x_train.astype('float32') / 255\n",
        "x_test = np.reshape(x_test, [-1, input_size])\n",
        "x_test = x_test.astype('float32') / 255"
      ],
      "metadata": {
        "id": "4SP6wyda3Ntv"
      },
      "execution_count": null,
      "outputs": []
    },
    {
      "cell_type": "markdown",
      "source": [
        "### Setting network parameters\n",
        "\n",
        "Now, we will set the network parameters as follows:"
      ],
      "metadata": {
        "id": "DV97xf233Tx5"
      }
    },
    {
      "cell_type": "code",
      "source": [
        "# network parameters\n",
        "batch_size = 128\n",
        "hidden_units = 256"
      ],
      "metadata": {
        "id": "8WXljzux3WL0"
      },
      "execution_count": null,
      "outputs": []
    },
    {
      "cell_type": "markdown",
      "source": [
        "### Designing the model architecture"
      ],
      "metadata": {
        "id": "A_6rINHi3hjK"
      }
    },
    {
      "cell_type": "code",
      "source": [
        "# model is a 3-layer MLP with ReLU and dropout after each layer\n",
        "model = Sequential()\n",
        "model.add(Dense(hidden_units, input_dim=input_size))\n",
        "model.add(Activation('relu'))\n",
        "model.add(Dense(hidden_units))\n",
        "model.add(Activation('relu'))\n",
        "model.add(Dense(num_labels))\n",
        "model.add(Activation('softmax'))"
      ],
      "metadata": {
        "id": "ssms90443hHF"
      },
      "execution_count": null,
      "outputs": []
    },
    {
      "cell_type": "markdown",
      "source": [
        "### View model summary :\n",
        "\n",
        "Keras library provides us summary() method to check the model description."
      ],
      "metadata": {
        "id": "y5KeFx-d4HL_"
      }
    },
    {
      "cell_type": "code",
      "source": [
        "model.summary()"
      ],
      "metadata": {
        "colab": {
          "base_uri": "https://localhost:8080/",
          "height": 321
        },
        "id": "LdGfm8kp4RJi",
        "outputId": "a1d75cb3-fa0a-4c81-a03c-f8819748986c"
      },
      "execution_count": null,
      "outputs": [
        {
          "output_type": "display_data",
          "data": {
            "text/plain": [
              "\u001b[1mModel: \"sequential_3\"\u001b[0m\n"
            ],
            "text/html": [
              "<pre style=\"white-space:pre;overflow-x:auto;line-height:normal;font-family:Menlo,'DejaVu Sans Mono',consolas,'Courier New',monospace\"><span style=\"font-weight: bold\">Model: \"sequential_3\"</span>\n",
              "</pre>\n"
            ]
          },
          "metadata": {}
        },
        {
          "output_type": "display_data",
          "data": {
            "text/plain": [
              "┏━━━━━━━━━━━━━━━━━━━━━━━━━━━━━━━━━━━━━━┳━━━━━━━━━━━━━━━━━━━━━━━━━━━━━┳━━━━━━━━━━━━━━━━━┓\n",
              "┃\u001b[1m \u001b[0m\u001b[1mLayer (type)                        \u001b[0m\u001b[1m \u001b[0m┃\u001b[1m \u001b[0m\u001b[1mOutput Shape               \u001b[0m\u001b[1m \u001b[0m┃\u001b[1m \u001b[0m\u001b[1m        Param #\u001b[0m\u001b[1m \u001b[0m┃\n",
              "┡━━━━━━━━━━━━━━━━━━━━━━━━━━━━━━━━━━━━━━╇━━━━━━━━━━━━━━━━━━━━━━━━━━━━━╇━━━━━━━━━━━━━━━━━┩\n",
              "│ dense_9 (\u001b[38;5;33mDense\u001b[0m)                      │ (\u001b[38;5;45mNone\u001b[0m, \u001b[38;5;34m256\u001b[0m)                 │         \u001b[38;5;34m200,960\u001b[0m │\n",
              "├──────────────────────────────────────┼─────────────────────────────┼─────────────────┤\n",
              "│ activation_9 (\u001b[38;5;33mActivation\u001b[0m)            │ (\u001b[38;5;45mNone\u001b[0m, \u001b[38;5;34m256\u001b[0m)                 │               \u001b[38;5;34m0\u001b[0m │\n",
              "├──────────────────────────────────────┼─────────────────────────────┼─────────────────┤\n",
              "│ dense_10 (\u001b[38;5;33mDense\u001b[0m)                     │ (\u001b[38;5;45mNone\u001b[0m, \u001b[38;5;34m256\u001b[0m)                 │          \u001b[38;5;34m65,792\u001b[0m │\n",
              "├──────────────────────────────────────┼─────────────────────────────┼─────────────────┤\n",
              "│ activation_10 (\u001b[38;5;33mActivation\u001b[0m)           │ (\u001b[38;5;45mNone\u001b[0m, \u001b[38;5;34m256\u001b[0m)                 │               \u001b[38;5;34m0\u001b[0m │\n",
              "├──────────────────────────────────────┼─────────────────────────────┼─────────────────┤\n",
              "│ dense_11 (\u001b[38;5;33mDense\u001b[0m)                     │ (\u001b[38;5;45mNone\u001b[0m, \u001b[38;5;34m10\u001b[0m)                  │           \u001b[38;5;34m2,570\u001b[0m │\n",
              "├──────────────────────────────────────┼─────────────────────────────┼─────────────────┤\n",
              "│ activation_11 (\u001b[38;5;33mActivation\u001b[0m)           │ (\u001b[38;5;45mNone\u001b[0m, \u001b[38;5;34m10\u001b[0m)                  │               \u001b[38;5;34m0\u001b[0m │\n",
              "└──────────────────────────────────────┴─────────────────────────────┴─────────────────┘\n"
            ],
            "text/html": [
              "<pre style=\"white-space:pre;overflow-x:auto;line-height:normal;font-family:Menlo,'DejaVu Sans Mono',consolas,'Courier New',monospace\">┏━━━━━━━━━━━━━━━━━━━━━━━━━━━━━━━━━━━━━━┳━━━━━━━━━━━━━━━━━━━━━━━━━━━━━┳━━━━━━━━━━━━━━━━━┓\n",
              "┃<span style=\"font-weight: bold\"> Layer (type)                         </span>┃<span style=\"font-weight: bold\"> Output Shape                </span>┃<span style=\"font-weight: bold\">         Param # </span>┃\n",
              "┡━━━━━━━━━━━━━━━━━━━━━━━━━━━━━━━━━━━━━━╇━━━━━━━━━━━━━━━━━━━━━━━━━━━━━╇━━━━━━━━━━━━━━━━━┩\n",
              "│ dense_9 (<span style=\"color: #0087ff; text-decoration-color: #0087ff\">Dense</span>)                      │ (<span style=\"color: #00d7ff; text-decoration-color: #00d7ff\">None</span>, <span style=\"color: #00af00; text-decoration-color: #00af00\">256</span>)                 │         <span style=\"color: #00af00; text-decoration-color: #00af00\">200,960</span> │\n",
              "├──────────────────────────────────────┼─────────────────────────────┼─────────────────┤\n",
              "│ activation_9 (<span style=\"color: #0087ff; text-decoration-color: #0087ff\">Activation</span>)            │ (<span style=\"color: #00d7ff; text-decoration-color: #00d7ff\">None</span>, <span style=\"color: #00af00; text-decoration-color: #00af00\">256</span>)                 │               <span style=\"color: #00af00; text-decoration-color: #00af00\">0</span> │\n",
              "├──────────────────────────────────────┼─────────────────────────────┼─────────────────┤\n",
              "│ dense_10 (<span style=\"color: #0087ff; text-decoration-color: #0087ff\">Dense</span>)                     │ (<span style=\"color: #00d7ff; text-decoration-color: #00d7ff\">None</span>, <span style=\"color: #00af00; text-decoration-color: #00af00\">256</span>)                 │          <span style=\"color: #00af00; text-decoration-color: #00af00\">65,792</span> │\n",
              "├──────────────────────────────────────┼─────────────────────────────┼─────────────────┤\n",
              "│ activation_10 (<span style=\"color: #0087ff; text-decoration-color: #0087ff\">Activation</span>)           │ (<span style=\"color: #00d7ff; text-decoration-color: #00d7ff\">None</span>, <span style=\"color: #00af00; text-decoration-color: #00af00\">256</span>)                 │               <span style=\"color: #00af00; text-decoration-color: #00af00\">0</span> │\n",
              "├──────────────────────────────────────┼─────────────────────────────┼─────────────────┤\n",
              "│ dense_11 (<span style=\"color: #0087ff; text-decoration-color: #0087ff\">Dense</span>)                     │ (<span style=\"color: #00d7ff; text-decoration-color: #00d7ff\">None</span>, <span style=\"color: #00af00; text-decoration-color: #00af00\">10</span>)                  │           <span style=\"color: #00af00; text-decoration-color: #00af00\">2,570</span> │\n",
              "├──────────────────────────────────────┼─────────────────────────────┼─────────────────┤\n",
              "│ activation_11 (<span style=\"color: #0087ff; text-decoration-color: #0087ff\">Activation</span>)           │ (<span style=\"color: #00d7ff; text-decoration-color: #00d7ff\">None</span>, <span style=\"color: #00af00; text-decoration-color: #00af00\">10</span>)                  │               <span style=\"color: #00af00; text-decoration-color: #00af00\">0</span> │\n",
              "└──────────────────────────────────────┴─────────────────────────────┴─────────────────┘\n",
              "</pre>\n"
            ]
          },
          "metadata": {}
        },
        {
          "output_type": "display_data",
          "data": {
            "text/plain": [
              "\u001b[1m Total params: \u001b[0m\u001b[38;5;34m269,322\u001b[0m (1.03 MB)\n"
            ],
            "text/html": [
              "<pre style=\"white-space:pre;overflow-x:auto;line-height:normal;font-family:Menlo,'DejaVu Sans Mono',consolas,'Courier New',monospace\"><span style=\"font-weight: bold\"> Total params: </span><span style=\"color: #00af00; text-decoration-color: #00af00\">269,322</span> (1.03 MB)\n",
              "</pre>\n"
            ]
          },
          "metadata": {}
        },
        {
          "output_type": "display_data",
          "data": {
            "text/plain": [
              "\u001b[1m Trainable params: \u001b[0m\u001b[38;5;34m269,322\u001b[0m (1.03 MB)\n"
            ],
            "text/html": [
              "<pre style=\"white-space:pre;overflow-x:auto;line-height:normal;font-family:Menlo,'DejaVu Sans Mono',consolas,'Courier New',monospace\"><span style=\"font-weight: bold\"> Trainable params: </span><span style=\"color: #00af00; text-decoration-color: #00af00\">269,322</span> (1.03 MB)\n",
              "</pre>\n"
            ]
          },
          "metadata": {}
        },
        {
          "output_type": "display_data",
          "data": {
            "text/plain": [
              "\u001b[1m Non-trainable params: \u001b[0m\u001b[38;5;34m0\u001b[0m (0.00 B)\n"
            ],
            "text/html": [
              "<pre style=\"white-space:pre;overflow-x:auto;line-height:normal;font-family:Menlo,'DejaVu Sans Mono',consolas,'Courier New',monospace\"><span style=\"font-weight: bold\"> Non-trainable params: </span><span style=\"color: #00af00; text-decoration-color: #00af00\">0</span> (0.00 B)\n",
              "</pre>\n"
            ]
          },
          "metadata": {}
        }
      ]
    },
    {
      "cell_type": "markdown",
      "source": [
        "### Implement MLP model using Keras :\n",
        "Back to Table of Contents\n",
        "\n",
        "The implementation of MLP model in Keras comprises of three steps:-\n",
        "\n",
        "Compiling the model with the compile() method.\n",
        "\n",
        "Training the model with fit() method.\n",
        "\n",
        "Evaluating the model performance with evaluate() method.\n",
        "\n",
        "For detailed discussion on implementation, please refer to my previous kernel Comprehensive Guide to ANN with Keras\n"
      ],
      "metadata": {
        "id": "kvBjy10n4U6C"
      }
    },
    {
      "cell_type": "markdown",
      "source": [
        "### Compile the model with compile() method"
      ],
      "metadata": {
        "id": "Y3oA1jlj4j0k"
      }
    },
    {
      "cell_type": "code",
      "source": [
        "model.compile(loss='categorical_crossentropy',\n",
        "              optimizer='adam',\n",
        "              metrics=['accuracy'])"
      ],
      "metadata": {
        "id": "X1TErlcA4TyY"
      },
      "execution_count": null,
      "outputs": []
    },
    {
      "cell_type": "markdown",
      "source": [
        " ### Train the model with fit() method"
      ],
      "metadata": {
        "id": "eeDeFw_u4oZ1"
      }
    },
    {
      "cell_type": "code",
      "source": [
        "model.fit(x_train, y_train, epochs=20, batch_size=batch_size)"
      ],
      "metadata": {
        "colab": {
          "base_uri": "https://localhost:8080/"
        },
        "id": "6L4IF2oB4sT3",
        "outputId": "28f805da-a7a3-478f-be60-03aa851062f4"
      },
      "execution_count": null,
      "outputs": [
        {
          "output_type": "stream",
          "name": "stdout",
          "text": [
            "Epoch 1/20\n",
            "\u001b[1m469/469\u001b[0m \u001b[32m━━━━━━━━━━━━━━━━━━━━\u001b[0m\u001b[37m\u001b[0m \u001b[1m5s\u001b[0m 8ms/step - accuracy: 0.8618 - loss: 0.4831\n",
            "Epoch 2/20\n",
            "\u001b[1m469/469\u001b[0m \u001b[32m━━━━━━━━━━━━━━━━━━━━\u001b[0m\u001b[37m\u001b[0m \u001b[1m4s\u001b[0m 7ms/step - accuracy: 0.9684 - loss: 0.1025\n",
            "Epoch 3/20\n",
            "\u001b[1m469/469\u001b[0m \u001b[32m━━━━━━━━━━━━━━━━━━━━\u001b[0m\u001b[37m\u001b[0m \u001b[1m6s\u001b[0m 8ms/step - accuracy: 0.9807 - loss: 0.0619\n",
            "Epoch 4/20\n",
            "\u001b[1m469/469\u001b[0m \u001b[32m━━━━━━━━━━━━━━━━━━━━\u001b[0m\u001b[37m\u001b[0m \u001b[1m4s\u001b[0m 7ms/step - accuracy: 0.9866 - loss: 0.0435\n",
            "Epoch 5/20\n",
            "\u001b[1m469/469\u001b[0m \u001b[32m━━━━━━━━━━━━━━━━━━━━\u001b[0m\u001b[37m\u001b[0m \u001b[1m3s\u001b[0m 6ms/step - accuracy: 0.9899 - loss: 0.0321\n",
            "Epoch 6/20\n",
            "\u001b[1m469/469\u001b[0m \u001b[32m━━━━━━━━━━━━━━━━━━━━\u001b[0m\u001b[37m\u001b[0m \u001b[1m3s\u001b[0m 7ms/step - accuracy: 0.9928 - loss: 0.0235\n",
            "Epoch 7/20\n",
            "\u001b[1m469/469\u001b[0m \u001b[32m━━━━━━━━━━━━━━━━━━━━\u001b[0m\u001b[37m\u001b[0m \u001b[1m4s\u001b[0m 9ms/step - accuracy: 0.9932 - loss: 0.0222\n",
            "Epoch 8/20\n",
            "\u001b[1m469/469\u001b[0m \u001b[32m━━━━━━━━━━━━━━━━━━━━\u001b[0m\u001b[37m\u001b[0m \u001b[1m3s\u001b[0m 7ms/step - accuracy: 0.9953 - loss: 0.0151\n",
            "Epoch 9/20\n",
            "\u001b[1m469/469\u001b[0m \u001b[32m━━━━━━━━━━━━━━━━━━━━\u001b[0m\u001b[37m\u001b[0m \u001b[1m5s\u001b[0m 7ms/step - accuracy: 0.9957 - loss: 0.0129\n",
            "Epoch 10/20\n",
            "\u001b[1m469/469\u001b[0m \u001b[32m━━━━━━━━━━━━━━━━━━━━\u001b[0m\u001b[37m\u001b[0m \u001b[1m6s\u001b[0m 9ms/step - accuracy: 0.9958 - loss: 0.0121\n",
            "Epoch 11/20\n",
            "\u001b[1m469/469\u001b[0m \u001b[32m━━━━━━━━━━━━━━━━━━━━\u001b[0m\u001b[37m\u001b[0m \u001b[1m3s\u001b[0m 7ms/step - accuracy: 0.9967 - loss: 0.0101\n",
            "Epoch 12/20\n",
            "\u001b[1m469/469\u001b[0m \u001b[32m━━━━━━━━━━━━━━━━━━━━\u001b[0m\u001b[37m\u001b[0m \u001b[1m3s\u001b[0m 7ms/step - accuracy: 0.9974 - loss: 0.0074\n",
            "Epoch 13/20\n",
            "\u001b[1m469/469\u001b[0m \u001b[32m━━━━━━━━━━━━━━━━━━━━\u001b[0m\u001b[37m\u001b[0m \u001b[1m6s\u001b[0m 9ms/step - accuracy: 0.9975 - loss: 0.0077\n",
            "Epoch 14/20\n",
            "\u001b[1m469/469\u001b[0m \u001b[32m━━━━━━━━━━━━━━━━━━━━\u001b[0m\u001b[37m\u001b[0m \u001b[1m3s\u001b[0m 7ms/step - accuracy: 0.9957 - loss: 0.0140\n",
            "Epoch 15/20\n",
            "\u001b[1m469/469\u001b[0m \u001b[32m━━━━━━━━━━━━━━━━━━━━\u001b[0m\u001b[37m\u001b[0m \u001b[1m5s\u001b[0m 7ms/step - accuracy: 0.9969 - loss: 0.0089\n",
            "Epoch 16/20\n",
            "\u001b[1m469/469\u001b[0m \u001b[32m━━━━━━━━━━━━━━━━━━━━\u001b[0m\u001b[37m\u001b[0m \u001b[1m4s\u001b[0m 9ms/step - accuracy: 0.9981 - loss: 0.0054\n",
            "Epoch 17/20\n",
            "\u001b[1m469/469\u001b[0m \u001b[32m━━━━━━━━━━━━━━━━━━━━\u001b[0m\u001b[37m\u001b[0m \u001b[1m4s\u001b[0m 7ms/step - accuracy: 0.9987 - loss: 0.0041\n",
            "Epoch 18/20\n",
            "\u001b[1m469/469\u001b[0m \u001b[32m━━━━━━━━━━━━━━━━━━━━\u001b[0m\u001b[37m\u001b[0m \u001b[1m3s\u001b[0m 6ms/step - accuracy: 0.9959 - loss: 0.0127\n",
            "Epoch 19/20\n",
            "\u001b[1m469/469\u001b[0m \u001b[32m━━━━━━━━━━━━━━━━━━━━\u001b[0m\u001b[37m\u001b[0m \u001b[1m6s\u001b[0m 8ms/step - accuracy: 0.9968 - loss: 0.0087\n",
            "Epoch 20/20\n",
            "\u001b[1m469/469\u001b[0m \u001b[32m━━━━━━━━━━━━━━━━━━━━\u001b[0m\u001b[37m\u001b[0m \u001b[1m3s\u001b[0m 7ms/step - accuracy: 0.9989 - loss: 0.0034\n"
          ]
        },
        {
          "output_type": "execute_result",
          "data": {
            "text/plain": [
              "<keras.src.callbacks.history.History at 0x7e1fec768f50>"
            ]
          },
          "metadata": {},
          "execution_count": 21
        }
      ]
    },
    {
      "cell_type": "markdown",
      "source": [
        "### Binary-Entropy Loss (2 classes)\n",
        "$$\n",
        "L = - \\sum_{i=1}^{n} \\left[ y_i \\log \\hat{y}_i + (1 - y_i) \\log (1 - \\hat{y}_i) \\right]\n",
        "$$\n",
        "\n",
        "### Cross-Entropy Loss (Multiclass)\n",
        "$$\n",
        "L = -  \\sum_{i=1}^{n} \\sum_{j=1}^{C} y_{i,j} \\log \\hat{y}_{i,j}\n",
        "$$"
      ],
      "metadata": {
        "id": "-9APl7u1m9a5"
      }
    },
    {
      "cell_type": "code",
      "source": [
        "import numpy as np\n",
        "\n",
        "def binary_cross_entropy(y_true, y_pred):\n",
        "    # Compute Binary Cross-Entropy Loss.\n",
        "    epsilon = 1e-9  # Small value to avoid log(0)\n",
        "    y_pred = np.clip(y_pred, epsilon, 1 - epsilon)  # Clip values between (1e-9, 1-1e-9)\n",
        "    return -np.mean(y_true * np.log(y_pred) + (1 - y_true) * np.log(1 - y_pred))\n",
        "\n",
        "\n",
        "def categorical_cross_entropy(y_true, y_pred):\n",
        "    epsilon = 1e-15  # To avoid log(0)\n",
        "    y_pred = np.clip(y_pred, epsilon, 1 - epsilon)\n",
        "    loss = -np.sum(y_true * np.log(y_pred), axis=1).mean()\n",
        "    return loss\n",
        "\n",
        "\n",
        "def mse(y_true, y_pred):\n",
        "    return np.mean((y_true - y_pred) ** 2)\n",
        "\n",
        "\n",
        "# -------------------------\n",
        "# Binary Classification Example\n",
        "# -------------------------\n",
        "y_true_binary = np.array([1, 0, 1, 1, 0])  # True labels\n",
        "y_pred_binary = np.array([0.9, 0.1, 0.8, 0.7, 0.2])  # Model predictions\n",
        "\n",
        "bce_loss = binary_cross_entropy(y_true_binary, y_pred_binary)\n",
        "print(f\"Binary Cross-Entropy Loss: {bce_loss:.4f}\")\n",
        "\n",
        "# -------------------------\n",
        "# Categorical Classification Example (3 classes)\n",
        "# -------------------------\n",
        "y_true_categorical = np.array([\n",
        "    [1, 0, 0],  # Class 0\n",
        "    [0, 1, 0],  # Class 1\n",
        "    [0, 0, 1],  # Class 2\n",
        "])\n",
        "\n",
        "y_pred_categorical = np.array([\n",
        "    [0.7, 0.2, 0.1],  # Model predicts Class 0\n",
        "    [0.1, 0.8, 0.1],  # Model predicts Class 1\n",
        "    [0.2, 0.2, 0.6],  # Model predicts Class 2\n",
        "])\n",
        "\n",
        "ce_loss = categorical_cross_entropy(y_true_categorical, y_pred_categorical)\n",
        "print(f\"Categorical Cross-Entropy Loss: {ce_loss:.4f}\")\n"
      ],
      "metadata": {
        "colab": {
          "base_uri": "https://localhost:8080/"
        },
        "id": "ouJ8cWeChGyP",
        "outputId": "8eca635f-112d-4924-a36b-f6ab36ace0c1"
      },
      "execution_count": null,
      "outputs": [
        {
          "output_type": "stream",
          "name": "stdout",
          "text": [
            "Binary Cross-Entropy Loss: 0.2027\n",
            "Categorical Cross-Entropy Loss: 0.3635\n"
          ]
        }
      ]
    },
    {
      "cell_type": "markdown",
      "source": [
        "### MSE Loss vs BCE Loss"
      ],
      "metadata": {
        "id": "UMlZT9RP1dj0"
      }
    },
    {
      "cell_type": "code",
      "source": [
        "y_true = np.array([1, 0, 1, 1, 0])  # True labels\n",
        "y_pred_good = np.array([0.9, 0.1, 0.8, 0.7, 0.2])  # Good predictions\n",
        "y_pred_bad = np.array([0.6, 0.4, 0.6, 0.6, 0.4])  # Less confident predictions\n",
        "\n",
        "# Compute losses\n",
        "mse_good = mse(y_true, y_pred_good)\n",
        "bce_good = binary_cross_entropy(y_true, y_pred_good)\n",
        "\n",
        "mse_bad = mse(y_true, y_pred_bad)\n",
        "bce_bad = binary_cross_entropy(y_true, y_pred_bad)\n",
        "\n",
        "# Print results\n",
        "print(f\"Good Predictions - MSE: {mse_good:.4f}, BCE: {bce_good:.4f}\")\n",
        "print(f\"Bad Predictions  - MSE: {mse_bad:.4f}, BCE: {bce_bad:.4f}\")\n"
      ],
      "metadata": {
        "colab": {
          "base_uri": "https://localhost:8080/"
        },
        "id": "YgzZr6t-08Tk",
        "outputId": "838c8244-7a3b-4480-f9a5-6c91543363ed"
      },
      "execution_count": null,
      "outputs": [
        {
          "output_type": "stream",
          "name": "stdout",
          "text": [
            "Good Predictions - MSE: 0.0380, BCE: 0.2027\n",
            "Bad Predictions  - MSE: 0.1600, BCE: 0.5108\n"
          ]
        }
      ]
    },
    {
      "cell_type": "markdown",
      "source": [
        "#### Does epsilon Affect Loss Calculation?\n",
        "\n",
        "Yes, but only when y_pred is exactly 0 or 1.\n",
        "Instead of computing log(0), we compute:\n",
        "\n",
        "log\n",
        "⁡\n",
        "(\n",
        "1\n",
        "𝑒\n",
        "−\n",
        "9\n",
        ")\n",
        "=\n",
        "−\n",
        "20.72\n",
        "log(1e−9)=−20.72\n",
        "\n",
        "This slightly increases the loss, but it’s better than getting NaN errors and breaking the training."
      ],
      "metadata": {
        "id": "oXNw9Ih3uTTd"
      }
    },
    {
      "cell_type": "code",
      "source": [
        "print (np.log(1e-9))\n",
        "print (np.log(0))\n",
        "print (np.log(1))"
      ],
      "metadata": {
        "colab": {
          "base_uri": "https://localhost:8080/"
        },
        "id": "lJUc_OXpukai",
        "outputId": "dbb20a97-df86-4f3e-e33c-095077f55317"
      },
      "execution_count": null,
      "outputs": [
        {
          "output_type": "stream",
          "name": "stdout",
          "text": [
            "-20.72326583694641\n",
            "-inf\n",
            "0.0\n"
          ]
        },
        {
          "output_type": "stream",
          "name": "stderr",
          "text": [
            "<ipython-input-42-d5ed26f5865d>:2: RuntimeWarning: divide by zero encountered in log\n",
            "  print (np.log(0))\n"
          ]
        }
      ]
    },
    {
      "cell_type": "markdown",
      "source": [
        "#### Numpy clip function"
      ],
      "metadata": {
        "id": "6WMto6mwsdVY"
      }
    },
    {
      "cell_type": "code",
      "source": [
        "\n",
        "value = 40\n",
        "epsilon = 50  # epsilon + 10 = 60\n",
        "a = np.clip (value ,epsilon,epsilon+10)\n",
        "print (a)\n",
        "\n"
      ],
      "metadata": {
        "colab": {
          "base_uri": "https://localhost:8080/"
        },
        "id": "7jq5A2faqqeR",
        "outputId": "e90f7c6b-334b-4cd9-f6e0-2b3ced035f32"
      },
      "execution_count": null,
      "outputs": [
        {
          "output_type": "stream",
          "name": "stdout",
          "text": [
            "50\n"
          ]
        }
      ]
    },
    {
      "cell_type": "code",
      "source": [
        "np.log(1)"
      ],
      "metadata": {
        "colab": {
          "base_uri": "https://localhost:8080/"
        },
        "id": "m78Hqux6OkAF",
        "outputId": "0856b7a3-d629-4231-8761-4bfd6efdf1db"
      },
      "execution_count": null,
      "outputs": [
        {
          "output_type": "execute_result",
          "data": {
            "text/plain": [
              "0.0"
            ]
          },
          "metadata": {},
          "execution_count": 48
        }
      ]
    },
    {
      "cell_type": "code",
      "source": [],
      "metadata": {
        "id": "akYhfkOVOjz8"
      },
      "execution_count": null,
      "outputs": []
    }
  ],
  "metadata": {
    "colab": {
      "provenance": [],
      "authorship_tag": "ABX9TyOz14jKtJwVoIV0xwFjhSj7",
      "include_colab_link": true
    },
    "kernelspec": {
      "display_name": "Python 3",
      "name": "python3"
    },
    "language_info": {
      "name": "python"
    }
  },
  "nbformat": 4,
  "nbformat_minor": 0
}